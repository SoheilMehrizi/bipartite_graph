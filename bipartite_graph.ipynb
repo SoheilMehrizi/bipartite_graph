{
 "cells": [
  {
   "cell_type": "markdown",
   "id": "4bca2a03-1c28-48d8-8807-bc6e7c3fa92a",
   "metadata": {},
   "source": [
    "# dependencies"
   ]
  },
  {
   "cell_type": "code",
   "execution_count": 2,
   "id": "4ac28db5-83b9-4559-92f7-d1c4d2311c99",
   "metadata": {},
   "outputs": [],
   "source": [
    "import random"
   ]
  },
  {
   "cell_type": "markdown",
   "id": "240e983c-cce8-4c7f-8cf2-90319c6a1511",
   "metadata": {},
   "source": [
    "# Generating two parts graph"
   ]
  },
  {
   "cell_type": "code",
   "execution_count": 7,
   "id": "d070beea-2f44-46a4-90a0-4ca95c92bf98",
   "metadata": {},
   "outputs": [
    {
     "name": "stdout",
     "output_type": "stream",
     "text": [
      "U: [1, 2, 3, 4, 5]\n",
      "W: [6, 7, 8, 9, 10]\n",
      "E: {(4, 10), (2, 10), (1, 8), (4, 6), (3, 10), (5, 7), (4, 7), (2, 9), (2, 6), (1, 9)}\n"
     ]
    }
   ],
   "source": [
    "import random\n",
    "\n",
    "def generate_bipartite_edges(v_n):\n",
    "    # Check if the number of vertices is at least 2\n",
    "    if v_n < 2:\n",
    "        raise ValueError(\"The number of vertices should be at least 2.\")\n",
    "    \n",
    "    num_vertices_U = v_n // 2\n",
    "    num_vertices_W = v_n - num_vertices_U\n",
    "    \n",
    "    U = list(range(1, num_vertices_U + 1))\n",
    "    W = list(range(num_vertices_U + 1, v_n + 1))\n",
    "    \n",
    "    edges = set()\n",
    "    for u in U:\n",
    "        for w in W:\n",
    "            if random.choice([True, False]):  \n",
    "                edges.add((u, w))\n",
    "    \n",
    "    return U, W, edges\n",
    "\n",
    "\n",
    "v_n = 10\n",
    "U, W, edges = generate_bipartite_edges(v_n)\n",
    "\n",
    "print(f\"U: {U}\")\n",
    "print(f\"W: {W}\")\n",
    "print(f\"E: {edges}\")\n"
   ]
  },
  {
   "cell_type": "markdown",
   "id": "592d6574",
   "metadata": {},
   "source": [
    "## Coloring the graph to detect if it constructed from two parts ."
   ]
  },
  {
   "cell_type": "code",
   "execution_count": 14,
   "id": "a78b6b3a-a913-4d55-825e-eb7f8487adcd",
   "metadata": {},
   "outputs": [],
   "source": [
    "def is_bipartite(edges, num_vertices):\n",
    "    graph = {i: [] for i in range(1, num_vertices + 1)}\n",
    "    \n",
    "    for u, v in edges:\n",
    "        graph[u].append(v)\n",
    "        graph[v].append(u)\n",
    "    \n",
    "    color = {}\n",
    "    \n",
    "    for node in range(1, num_vertices + 1):\n",
    "        if node not in color:\n",
    "            color[node] = 0\n",
    "            queue = [node]\n",
    "            \n",
    "            while queue:\n",
    "                current = queue.pop(0)\n",
    "                \n",
    "                for neighbor in graph[current]:\n",
    "                    if neighbor not in color:\n",
    "                        color[neighbor] = 1 - color[current]\n",
    "                        queue.append(neighbor)\n",
    "                    elif color[neighbor] == color[current]:\n",
    "                        return False, graph, color\n",
    "    return True, graph, color\n"
   ]
  },
  {
   "cell_type": "code",
   "execution_count": 15,
   "id": "642680e3-8a53-47be-b716-dae8bdaee267",
   "metadata": {},
   "outputs": [],
   "source": [
    "v_n = 10\n",
    "U, W, edges = generate_bipartite_edges(v_n)"
   ]
  },
  {
   "cell_type": "code",
   "execution_count": 18,
   "id": "95b8ed6b-7e0a-46c3-8661-8d6c264f9b25",
   "metadata": {},
   "outputs": [],
   "source": [
    "result = is_bipartite(edges, v_n)"
   ]
  },
  {
   "cell_type": "code",
   "execution_count": 19,
   "id": "997ed745-145b-493a-9593-2ca02e1172cb",
   "metadata": {},
   "outputs": [
    {
     "data": {
      "text/plain": [
       "(True,\n",
       " {1: [8],\n",
       "  2: [10, 9, 8],\n",
       "  3: [8, 7],\n",
       "  4: [10, 8, 7],\n",
       "  5: [7, 6],\n",
       "  6: [5],\n",
       "  7: [3, 5, 4],\n",
       "  8: [3, 1, 4, 2],\n",
       "  9: [2],\n",
       "  10: [4, 2]},\n",
       " {1: 0, 8: 1, 3: 0, 4: 0, 2: 0, 7: 1, 10: 1, 9: 1, 5: 0, 6: 1})"
      ]
     },
     "execution_count": 19,
     "metadata": {},
     "output_type": "execute_result"
    }
   ],
   "source": [
    "result"
   ]
  },
  {
   "cell_type": "markdown",
   "id": "c9c85219-bdd2-4606-99d9-0c0836173517",
   "metadata": {},
   "source": [
    "# Assessing the Algorithm"
   ]
  },
  {
   "cell_type": "code",
   "execution_count": 23,
   "id": "71e6667a-6976-477f-a042-e0aed1d2f784",
   "metadata": {},
   "outputs": [],
   "source": [
    "edges = {(4, 10), (10, 2), (2, 8), (8, 6), (6, 10), (10, 7), (7, 4), (4, 9), (9, 6), (6, 2)}\n",
    "n_v = 10\n",
    "\n",
    "result = is_bipartite(edges, v_n)"
   ]
  },
  {
   "cell_type": "code",
   "execution_count": 24,
   "id": "85d83cd9-93da-4a0e-985f-4962aa4afe74",
   "metadata": {},
   "outputs": [
    {
     "data": {
      "text/plain": [
       "(False,\n",
       " {1: [],\n",
       "  2: [6, 10, 8],\n",
       "  3: [],\n",
       "  4: [10, 7, 9],\n",
       "  5: [],\n",
       "  6: [2, 9, 10, 8],\n",
       "  7: [4, 10],\n",
       "  8: [6, 2],\n",
       "  9: [4, 6],\n",
       "  10: [4, 7, 6, 2]},\n",
       " {1: 0, 2: 0, 6: 1, 10: 1, 8: 1, 9: 0})"
      ]
     },
     "execution_count": 24,
     "metadata": {},
     "output_type": "execute_result"
    }
   ],
   "source": [
    "result"
   ]
  },
  {
   "cell_type": "code",
   "execution_count": null,
   "id": "a3d30cad-005b-4e53-aa77-2bca3cdbda46",
   "metadata": {},
   "outputs": [],
   "source": []
  }
 ],
 "metadata": {
  "kernelspec": {
   "display_name": "Python 3 (ipykernel)",
   "language": "python",
   "name": "python3"
  },
  "language_info": {
   "codemirror_mode": {
    "name": "ipython",
    "version": 3
   },
   "file_extension": ".py",
   "mimetype": "text/x-python",
   "name": "python",
   "nbconvert_exporter": "python",
   "pygments_lexer": "ipython3",
   "version": "3.10.6"
  }
 },
 "nbformat": 4,
 "nbformat_minor": 5
}
